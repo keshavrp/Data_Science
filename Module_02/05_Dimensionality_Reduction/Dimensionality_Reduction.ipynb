{
 "cells": [
  {
   "cell_type": "markdown",
   "id": "ff8775cd",
   "metadata": {},
   "source": [
    "# Load MNIST Data"
   ]
  },
  {
   "cell_type": "code",
   "execution_count": 12,
   "id": "6dbe7dbb",
   "metadata": {},
   "outputs": [],
   "source": [
    "# MNIST dataset downloaded from the kaggle:\n",
    "# https://www.kaggle.com/c/digit-recognizer/data\n",
    "\n",
    "# Function to read and show images:\n",
    "\n",
    "import numpy as np\n",
    "import pandas as pd\n",
    "import matplotlib.pyplot as plt"
   ]
  },
  {
   "cell_type": "code",
   "execution_count": 13,
   "id": "2c1b5597",
   "metadata": {},
   "outputs": [
    {
     "name": "stdout",
     "output_type": "stream",
     "text": [
      "   label  pixel0  pixel1  pixel2  pixel3  pixel4  pixel5  pixel6  pixel7  \\\n",
      "0      1       0       0       0       0       0       0       0       0   \n",
      "1      0       0       0       0       0       0       0       0       0   \n",
      "2      1       0       0       0       0       0       0       0       0   \n",
      "3      4       0       0       0       0       0       0       0       0   \n",
      "4      0       0       0       0       0       0       0       0       0   \n",
      "\n",
      "   pixel8  ...  pixel774  pixel775  pixel776  pixel777  pixel778  pixel779  \\\n",
      "0       0  ...         0         0         0         0         0         0   \n",
      "1       0  ...         0         0         0         0         0         0   \n",
      "2       0  ...         0         0         0         0         0         0   \n",
      "3       0  ...         0         0         0         0         0         0   \n",
      "4       0  ...         0         0         0         0         0         0   \n",
      "\n",
      "   pixel780  pixel781  pixel782  pixel783  \n",
      "0         0         0         0         0  \n",
      "1         0         0         0         0  \n",
      "2         0         0         0         0  \n",
      "3         0         0         0         0  \n",
      "4         0         0         0         0  \n",
      "\n",
      "[5 rows x 785 columns]\n"
     ]
    }
   ],
   "source": [
    "# Load the MNIST_train.csv data.\n",
    "data=pd.read_csv('MNIST_train.csv')\n",
    "\n",
    "# Print first five rows of data.\n",
    "print(data.head(5))\n",
    "\n",
    "# Save the Label in to the variable l.\n",
    "l=data['label']\n",
    "\n",
    "# Drop the label feature and store the pixel data in data.\n",
    "data_1=data.drop('label',axis=1)"
   ]
  },
  {
   "cell_type": "code",
   "execution_count": 14,
   "id": "2d29d76e",
   "metadata": {},
   "outputs": [
    {
     "name": "stdout",
     "output_type": "stream",
     "text": [
      "The shape of the label is: (42000,)\n",
      "The shape of the data is: (42000, 784)\n"
     ]
    }
   ],
   "source": [
    "print('The shape of the label is:',l.shape)\n",
    "print('The shape of the data is:',data_1.shape)"
   ]
  },
  {
   "cell_type": "code",
   "execution_count": 41,
   "id": "901ce7b9",
   "metadata": {},
   "outputs": [
    {
     "data": {
      "image/png": "[encoded data removed]",
      "text/plain": [
       "<Figure size 700x700 with 1 Axes>"
      ]
     },
     "metadata": {},
     "output_type": "display_data"
    },
    {
     "name": "stdout",
     "output_type": "stream",
     "text": [
      "The label of the digit is: 9\n"
     ]
    }
   ],
   "source": [
    "# Display or plot a number.\n",
    "\n",
    "plt.figure(figsize=(7,7))\n",
    "idx=100\n",
    "\n",
    "# Reshape from 1-D to 2-D.\n",
    "grid_data=data_1.iloc[idx].to_numpy().reshape(28,28)\n",
    "\n",
    "plt.imshow(grid_data,interpolation='none',cmap='summer_r')\n",
    "plt.show()\n",
    "\n",
    "print('The label of the digit is:',l[idx])"
   ]
  },
  {
   "cell_type": "code",
   "execution_count": null,
   "id": "ab71350b",
   "metadata": {},
   "outputs": [],
   "source": []
  }
 ],
 "metadata": {
  "kernelspec": {
   "display_name": "Python 3 (ipykernel)",
   "language": "python",
   "name": "python3"
  },
  "language_info": {
   "codemirror_mode": {
    "name": "ipython",
    "version": 3
   },
   "file_extension": ".py",
   "mimetype": "text/x-python",
   "name": "python",
   "nbconvert_exporter": "python",
   "pygments_lexer": "ipython3",
   "version": "3.10.9"
  }
 },
 "nbformat": 4,
 "nbformat_minor": 5
}
