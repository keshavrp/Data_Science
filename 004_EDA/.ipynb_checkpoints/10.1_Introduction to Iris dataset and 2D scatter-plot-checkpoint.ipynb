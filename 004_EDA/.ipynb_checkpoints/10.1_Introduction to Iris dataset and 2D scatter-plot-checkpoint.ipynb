{
 "cells": [
  {
   "cell_type": "markdown",
   "id": "57a3b61f",
   "metadata": {},
   "source": [
    "# Plotting for Exploratory Data Analysis(EDA)"
   ]
  },
  {
   "cell_type": "markdown",
   "id": "757532d4",
   "metadata": {},
   "source": [
    "# Basic Terminology"
   ]
  },
  {
   "cell_type": "markdown",
   "id": "ae19e3cf",
   "metadata": {},
   "source": [
    "- What is EDA? <by>\n",
    "- Data-point/vector/Observation <by>\n",
    "- Data-set. <by>\n",
    "- Feature/Variable/Input-variable/Dependent-varibale <by>\n",
    "- Label/Independent-variable/Output-varible/Class/Class-label/Response label <by>\n",
    "- Vector: 2-D, 3-D, 4-D,....,n-D <by>\n",
    "    \n",
    "Q. What is a 1-D vector: Scalar "
   ]
  },
  {
   "cell_type": "markdown",
   "id": "4bdad1ac",
   "metadata": {},
   "source": [
    "# Irish Flower Dataset"
   ]
  },
  {
   "cell_type": "markdown",
   "id": "637a287a",
   "metadata": {},
   "source": [
    "Toy Dataset: Irish Dataset: \n",
    "__(https://en.wikipedia.org/wiki/Iris_flower_data_set#)__\n",
    "* A simple dataset to learn the basics.\n",
    "* 3 flowers of Iris species. [see images on wikipedia link above]\n",
    "* 1936 by Ronald Fisher.\n",
    "* Petal and Sepal:\n",
    "__(http://terpconnect.umd.edu/~petersd/666/html/iris_with_labels.ipg)__\n",
    "* Objective: Classify a new flower as belonging to one of the 3 classes given the 4 features.\n",
    "* Importance of domain knowledge.\n",
    "* Why use petal and sepal dimensions as features?\n",
    "* Why do we not use\n",
    "'color' as a feature?"
   ]
  },
  {
   "cell_type": "markdown",
   "id": "6dea115a",
   "metadata": {},
   "source": []
  },
  {
   "cell_type": "code",
   "execution_count": null,
   "id": "13cb5e1d",
   "metadata": {},
   "outputs": [],
   "source": []
  }
 ],
 "metadata": {
  "kernelspec": {
   "display_name": "Python 3 (ipykernel)",
   "language": "python",
   "name": "python3"
  },
  "language_info": {
   "codemirror_mode": {
    "name": "ipython",
    "version": 3
   },
   "file_extension": ".py",
   "mimetype": "text/x-python",
   "name": "python",
   "nbconvert_exporter": "python",
   "pygments_lexer": "ipython3",
   "version": "3.10.9"
  }
 },
 "nbformat": 4,
 "nbformat_minor": 5
}
